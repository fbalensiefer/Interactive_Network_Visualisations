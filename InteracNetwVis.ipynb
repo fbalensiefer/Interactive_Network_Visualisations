{
  "metadata": {
    "language_info": {
      "codemirror_mode": {
        "name": "python",
        "version": 3
      },
      "file_extension": ".py",
      "mimetype": "text/x-python",
      "name": "python",
      "nbconvert_exporter": "python",
      "pygments_lexer": "ipython3",
      "version": "3.8"
    },
    "kernelspec": {
      "name": "python",
      "display_name": "Python (Pyodide)",
      "language": "python"
    }
  },
  "nbformat_minor": 4,
  "nbformat": 4,
  "cells": [
    {
      "cell_type": "markdown",
      "source": "# Introduction to Interactive Network Graph Visualization with Python\n\n## Introduction:\n\nNetwork graphs, are a powerful way to represent and analyze relationships between various entities, such as social networks, communication networks, biological systems, and more. Interactive network graph visualization in Python has gained significant popularity due to its ability to provide insights into complex data structures and make them easily understandable.\n\nPython, a versatile and widely-used programming language, offers numerous libraries and tools to create interactive network graph visualizations. In this introduction, we will explore the key components and popular Python libraries that enable the creation of interactive network graph visualizations.\n\n### Key Components of Interactive Network Graphs:\n\n1. **Nodes:** Nodes represent individual entities within the network. They can represent people, devices, websites, or any other object of interest in your data.\n\n2. **Edges:** Edges are the connections or relationships between nodes. They indicate how nodes are related to each other and can carry additional information, such as weight or direction.\n\n3. **Attributes:** Both nodes and edges can have attributes that provide additional information about them. These attributes can be used to color, size, or label the elements of the network.\n\n4. **Interactivity:** The power of interactive network graph visualization lies in the ability to explore and analyze the data dynamically. Users can zoom, pan, click on nodes or edges to reveal more information, and filter or highlight specific components of the network.\n\n### Popular Python Libraries for Interactive Network Graph Visualization:\n\n1. **NetworkX:** NetworkX is a Python library for the creation, manipulation, and study of complex networks. While it does not provide direct interactive visualization capabilities, it is often used to prepare and analyze network data before passing it to other libraries for visualization.\n\n2. **D3.js:** D3.js is a powerful JavaScript library for creating interactive data visualizations. Python developers often use it in conjunction with Python libraries like Flask or Dash to build web applications that display interactive network graphs.\n\n3. **Plotly:** Plotly is a Python graphing library that offers interactive network graph visualization capabilities. It is especially popular for creating web-based dashboards with interactive charts and graphs.\n\n4. **Cytoscape.js:** Cytoscape.js is a JavaScript library that specializes in network graph visualization. Python developers can use Cytoscape.js through Jupyter notebooks or web applications to create highly interactive and customizable network graphs.\n\n5. **Bokeh:** Bokeh is a Python library for creating interactive, web-ready visualizations. It can be used to build interactive network graph visualizations that can be embedded in web applications or viewed in Jupyter notebooks.\n\n6. **Pyvis:** Pyvis is a Python library specifically designed for creating interactive network graph visualizations. It is built on top of NetworkX and allows users to generate visually appealing and interactive network graphs with ease. Pyvis provides a straightforward way to add nodes, edges, and customize the appearance and interactivity of the resulting graph directly from Python code. This library is suitable for both small-scale exploratory data analysis and larger network graph visualization projects.\n\nIncluding Pyvis in your arsenal of tools for interactive network graph visualization with Python can make the process more efficient and user-friendly. You can use Pyvis to create visually engaging graphs and customize various aspects of the visualization to meet your specific requirements. For this reason, the focus of this repository will be on an **application on pyvis**.\n\n### Conclusion:\n\nInteractive network graph visualization with Python opens up a world of possibilities for exploring complex relationships and patterns within your data. By leveraging the right Python libraries and tools, you can create interactive network graphs that are not only informative but also engaging for your audience. In the following guides and tutorials, we will dive deeper into the practical aspects of creating such visualizations using the mentioned libraries.\n",
      "metadata": {}
    },
    {
      "cell_type": "code",
      "source": "### Import Libraries\n\nimport matplotlib.pyplot as plt\nimport numpy as np\nimport pandas as pd\nimport networkx as nx\nimport pyvis as pv\nfrom pyvis import network as net\n",
      "metadata": {
        "trusted": true
      },
      "execution_count": 2,
      "outputs": [
        {
          "ename": "<class 'ModuleNotFoundError'>",
          "evalue": "No module named 'pyvis'",
          "traceback": [
            "\u001b[0;31m---------------------------------------------------------------------------\u001b[0m",
            "\u001b[0;31mModuleNotFoundError\u001b[0m                       Traceback (most recent call last)",
            "Cell \u001b[0;32mIn[2], line 7\u001b[0m\n\u001b[1;32m      5\u001b[0m \u001b[38;5;28;01mimport\u001b[39;00m \u001b[38;5;21;01mpandas\u001b[39;00m \u001b[38;5;28;01mas\u001b[39;00m \u001b[38;5;21;01mpd\u001b[39;00m\n\u001b[1;32m      6\u001b[0m \u001b[38;5;28;01mimport\u001b[39;00m \u001b[38;5;21;01mnetworkx\u001b[39;00m \u001b[38;5;28;01mas\u001b[39;00m \u001b[38;5;21;01mnx\u001b[39;00m\n\u001b[0;32m----> 7\u001b[0m \u001b[38;5;28;01mimport\u001b[39;00m \u001b[38;5;21;01mpyvis\u001b[39;00m \u001b[38;5;28;01mas\u001b[39;00m \u001b[38;5;21;01mpv\u001b[39;00m\n\u001b[1;32m      8\u001b[0m \u001b[38;5;28;01mfrom\u001b[39;00m \u001b[38;5;21;01mpyvis\u001b[39;00m \u001b[38;5;28;01mimport\u001b[39;00m network \u001b[38;5;28;01mas\u001b[39;00m net\n",
            "\u001b[0;31mModuleNotFoundError\u001b[0m: No module named 'pyvis'"
          ],
          "output_type": "error"
        }
      ]
    },
    {
      "cell_type": "code",
      "source": "got_net = Network(height=\"750px\", width=\"100%\", bgcolor=\"#222222\", font_color=\"white\", filter_menu=True)",
      "metadata": {
        "trusted": true
      },
      "execution_count": 3,
      "outputs": [
        {
          "ename": "<class 'NameError'>",
          "evalue": "name 'Network' is not defined",
          "traceback": [
            "\u001b[0;31m---------------------------------------------------------------------------\u001b[0m",
            "\u001b[0;31mNameError\u001b[0m                                 Traceback (most recent call last)",
            "Cell \u001b[0;32mIn[3], line 1\u001b[0m\n\u001b[0;32m----> 1\u001b[0m got_net \u001b[38;5;241m=\u001b[39m \u001b[43mNetwork\u001b[49m(height\u001b[38;5;241m=\u001b[39m\u001b[38;5;124m\"\u001b[39m\u001b[38;5;124m750px\u001b[39m\u001b[38;5;124m\"\u001b[39m, width\u001b[38;5;241m=\u001b[39m\u001b[38;5;124m\"\u001b[39m\u001b[38;5;124m100\u001b[39m\u001b[38;5;124m%\u001b[39m\u001b[38;5;124m\"\u001b[39m, bgcolor\u001b[38;5;241m=\u001b[39m\u001b[38;5;124m\"\u001b[39m\u001b[38;5;124m#222222\u001b[39m\u001b[38;5;124m\"\u001b[39m, font_color\u001b[38;5;241m=\u001b[39m\u001b[38;5;124m\"\u001b[39m\u001b[38;5;124mwhite\u001b[39m\u001b[38;5;124m\"\u001b[39m, filter_menu\u001b[38;5;241m=\u001b[39m\u001b[38;5;28;01mTrue\u001b[39;00m)\n",
            "\u001b[0;31mNameError\u001b[0m: name 'Network' is not defined"
          ],
          "output_type": "error"
        }
      ]
    },
    {
      "cell_type": "code",
      "source": "",
      "metadata": {},
      "execution_count": null,
      "outputs": []
    }
  ]
}