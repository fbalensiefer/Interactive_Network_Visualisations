{
 "cells": [
  {
   "cell_type": "markdown",
   "metadata": {},
   "source": [
    "# Introduction to Interactive Network Graph Visualization with Python\n",
    "\n",
    "## Introduction:\n",
    "\n",
    "Network graphs, are a powerful way to represent and analyze relationships between various entities, such as social networks, communication networks, biological systems, and more. Interactive network graph visualization in Python has gained significant popularity due to its ability to provide insights into complex data structures and make them easily understandable.\n",
    "\n",
    "Python, a versatile and widely-used programming language, offers numerous libraries and tools to create interactive network graph visualizations. In this introduction, we will explore the key components and popular Python libraries that enable the creation of interactive network graph visualizations.\n",
    "\n",
    "### Key Components of Interactive Network Graphs:\n",
    "\n",
    "1. **Nodes:** Nodes represent individual entities within the network. They can represent people, devices, websites, or any other object of interest in your data.\n",
    "\n",
    "2. **Edges:** Edges are the connections or relationships between nodes. They indicate how nodes are related to each other and can carry additional information, such as weight or direction.\n",
    "\n",
    "3. **Attributes:** Both nodes and edges can have attributes that provide additional information about them. These attributes can be used to color, size, or label the elements of the network.\n",
    "\n",
    "4. **Interactivity:** The power of interactive network graph visualization lies in the ability to explore and analyze the data dynamically. Users can zoom, pan, click on nodes or edges to reveal more information, and filter or highlight specific components of the network.\n",
    "\n",
    "### Popular Python Libraries for Interactive Network Graph Visualization:\n",
    "\n",
    "1. **NetworkX:** NetworkX is a Python library for the creation, manipulation, and study of complex networks. While it does not provide direct interactive visualization capabilities, it is often used to prepare and analyze network data before passing it to other libraries for visualization.\n",
    "\n",
    "2. **D3.js:** D3.js is a powerful JavaScript library for creating interactive data visualizations. Python developers often use it in conjunction with Python libraries like Flask or Dash to build web applications that display interactive network graphs.\n",
    "\n",
    "3. **Plotly:** Plotly is a Python graphing library that offers interactive network graph visualization capabilities. It is especially popular for creating web-based dashboards with interactive charts and graphs.\n",
    "\n",
    "4. **Cytoscape.js:** Cytoscape.js is a JavaScript library that specializes in network graph visualization. Python developers can use Cytoscape.js through Jupyter notebooks or web applications to create highly interactive and customizable network graphs.\n",
    "\n",
    "5. **Bokeh:** Bokeh is a Python library for creating interactive, web-ready visualizations. It can be used to build interactive network graph visualizations that can be embedded in web applications or viewed in Jupyter notebooks.\n",
    "\n",
    "6. **Pyvis:** Pyvis is a Python library specifically designed for creating interactive network graph visualizations. It is built on top of NetworkX and allows users to generate visually appealing and interactive network graphs with ease. Pyvis provides a straightforward way to add nodes, edges, and customize the appearance and interactivity of the resulting graph directly from Python code. This library is suitable for both small-scale exploratory data analysis and larger network graph visualization projects.\n",
    "\n",
    "Including Pyvis in your arsenal of tools for interactive network graph visualization with Python can make the process more efficient and user-friendly. You can use Pyvis to create visually engaging graphs and customize various aspects of the visualization to meet your specific requirements. For this reason, the focus of this repository will be on an **application on pyvis**.\n",
    "\n",
    "### Conclusion:\n",
    "\n",
    "Interactive network graph visualization with Python opens up a world of possibilities for exploring complex relationships and patterns within your data. By leveraging the right Python libraries and tools, you can create interactive network graphs that are not only informative but also engaging for your audience. In the following guides and tutorials, we will dive deeper into the practical aspects of creating such visualizations using the mentioned libraries.\n"
   ]
  },
  {
   "cell_type": "code",
   "execution_count": 1,
   "metadata": {},
   "outputs": [
    {
     "name": "stdout",
     "output_type": "stream",
     "text": [
      "Warning: When  cdn_resources is 'local' jupyter notebook has issues displaying graphics on chrome/safari. Use cdn_resources='in_line' or cdn_resources='remote' if you have issues viewing graphics in a notebook.\n",
      "example.html\n"
     ]
    },
    {
     "data": {
      "text/html": [
       "\n",
       "        <iframe\n",
       "            width=\"100%\"\n",
       "            height=\"600px\"\n",
       "            src=\"example.html\"\n",
       "            frameborder=\"0\"\n",
       "            allowfullscreen\n",
       "            \n",
       "        ></iframe>\n",
       "        "
      ],
      "text/plain": [
       "<IPython.lib.display.IFrame at 0x107fe9fd0>"
      ]
     },
     "execution_count": 1,
     "metadata": {},
     "output_type": "execute_result"
    }
   ],
   "source": [
    "### First simple example\n",
    "from pyvis import network as net\n",
    "import networkx as nx\n",
    "\n",
    "g=net.Network(notebook=True)\n",
    "nxg = nx.complete_graph(5)\n",
    "g.from_nx(nxg)\n",
    "\n",
    "g.show(\"example.html\")"
   ]
  },
  {
   "cell_type": "code",
   "execution_count": 2,
   "metadata": {},
   "outputs": [],
   "source": [
    "### Import Libraries\n",
    "\n",
    "#!{sys.executable} -m pip install matplotlib\n",
    "#!{sys.executable} -m pip install numpy\n",
    "#!{sys.executable} -m pip install pandas\n",
    "#!{sys.executable} -m pip install networkx\n",
    "#!{sys.executable} -m pip install pyvis\n",
    "\n",
    "import sys\n",
    "import matplotlib.pyplot as plt\n",
    "import numpy as np\n",
    "import pandas as pd\n",
    "import networkx as nx\n",
    "import pyvis as pv"
   ]
  },
  {
   "cell_type": "code",
   "execution_count": 3,
   "metadata": {},
   "outputs": [
    {
     "name": "stdout",
     "output_type": "stream",
     "text": [
      "Warning: When  cdn_resources is 'local' jupyter notebook has issues displaying graphics on chrome/safari. Use cdn_resources='in_line' or cdn_resources='remote' if you have issues viewing graphics in a notebook.\n",
      "networkgraph.html\n"
     ]
    },
    {
     "data": {
      "text/html": [
       "\n",
       "        <iframe\n",
       "            width=\"100%\"\n",
       "            height=\"750px\"\n",
       "            src=\"networkgraph.html\"\n",
       "            frameborder=\"0\"\n",
       "            allowfullscreen\n",
       "            \n",
       "        ></iframe>\n",
       "        "
      ],
      "text/plain": [
       "<IPython.lib.display.IFrame at 0x12f70a510>"
      ]
     },
     "execution_count": 3,
     "metadata": {},
     "output_type": "execute_result"
    }
   ],
   "source": [
    "from pyvis.network import Network\n",
    "import pandas as pd\n",
    "\n",
    "got_net = Network(height=\"750px\", width=\"100%\", bgcolor=\"#222222\", font_color=\"white\", notebook=True)\n",
    "\n",
    "# set the physics layout of the network\n",
    "got_net.barnes_hut()\n",
    "got_data = pd.read_csv(\"stormofswords.csv\")\n",
    "\n",
    "sources = got_data['Source']\n",
    "targets = got_data['Target']\n",
    "weights = got_data['Weight']\n",
    "\n",
    "edge_data = zip(sources, targets, weights)\n",
    "\n",
    "for e in edge_data:\n",
    "                src = e[0]\n",
    "                dst = e[1]\n",
    "                w = e[2]\n",
    "\n",
    "                got_net.add_node(src, src, title=src)\n",
    "                got_net.add_node(dst, dst, title=dst)\n",
    "                got_net.add_edge(src, dst, value=w)\n",
    "\n",
    "neighbor_map = got_net.get_adj_list()\n",
    "\n",
    "# add neighbor data to node hover data\n",
    "for node in got_net.nodes:\n",
    "                node[\"title\"] += \" Neighbors:<br>\" + \"<br>\".join(neighbor_map[node[\"id\"]])\n",
    "                node[\"value\"] = len(neighbor_map[node[\"id\"]])\n",
    "\n",
    "got_net.show(\"networkgraph.html\")\n"
   ]
  }
 ],
 "metadata": {
  "kernelspec": {
   "display_name": "Python 3 (ipykernel)",
   "language": "python",
   "name": "python3"
  },
  "language_info": {
   "codemirror_mode": {
    "name": "ipython",
    "version": 3
   },
   "file_extension": ".py",
   "mimetype": "text/x-python",
   "name": "python",
   "nbconvert_exporter": "python",
   "pygments_lexer": "ipython3",
   "version": "3.11.6"
  }
 },
 "nbformat": 4,
 "nbformat_minor": 4
}
